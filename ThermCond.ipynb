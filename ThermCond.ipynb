{
 "cells": [
  {
   "cell_type": "code",
   "execution_count": 16,
   "metadata": {},
   "outputs": [],
   "source": [
    "import numpy as np                                # import packages and give them quick handles since they will be used often\n",
    "import matplotlib.pyplot as plt\n",
    "from scipy import optimize\n",
    "import pandas as pd\n",
    "import math\n",
    "%matplotlib inline"
   ]
  },
  {
   "cell_type": "code",
   "execution_count": 64,
   "metadata": {},
   "outputs": [
    {
     "name": "stdout",
     "output_type": "stream",
     "text": [
      "[[ 0.  -1.6  0.2]\n",
      " [ 1.   0.6  0.2]\n",
      " [ 3.   4.8  0.2]\n",
      " [ 4.2  7.   0.2]]\n"
     ]
    }
   ],
   "source": [
    "AirData = np.genfromtxt('power vs temp_dif data', delimiter=',',skip_header=1)\n",
    "print(AirData)"
   ]
  },
  {
   "cell_type": "code",
   "execution_count": 65,
   "metadata": {},
   "outputs": [
    {
     "name": "stdout",
     "output_type": "stream",
     "text": [
      "[0.0, 1.0, 3.0, 4.2]\n",
      "[-1.6, 0.6, 4.8, 7.0]\n",
      "[0.2, 0.2, 0.2, 0.2]\n"
     ]
    }
   ],
   "source": [
    "power = []\n",
    "temp_dif = []\n",
    "err = []\n",
    "\n",
    "for i in range(len(AirData)):\n",
    "    power.append(AirData[i][0])\n",
    "    temp_dif.append(AirData[i][1])\n",
    "    err.append(AirData[i][2])\n",
    "    \n",
    "print(power)\n",
    "print(temp_dif)\n",
    "print(err)"
   ]
  },
  {
   "cell_type": "code",
   "execution_count": 27,
   "metadata": {},
   "outputs": [
    {
     "name": "stdout",
     "output_type": "stream",
     "text": [
      "Slope: 2.0554016631201826 +- 0.04646258814831406\n",
      "Intercept: -1.5135734093963742 +- 0.12213564176031275\n"
     ]
    },
    {
     "data": {
      "text/plain": [
       "[<matplotlib.lines.Line2D at 0x7f2576c8fcc0>]"
      ]
     },
     "execution_count": 27,
     "metadata": {},
     "output_type": "execute_result"
    },
    {
     "data": {
      "image/png": "[encoded data removed]",
      "text/plain": [
       "<Figure size 432x288 with 1 Axes>"
      ]
     },
     "metadata": {
      "needs_background": "light"
     },
     "output_type": "display_data"
    }
   ],
   "source": [
    "def func(x,m,b):                                 \n",
    "    return m*x+b                                \n",
    " \n",
    "initialguess = [1,1]                     \n",
    "                                        \n",
    "fit, covariance = optimize.curve_fit(            \n",
    "        func,                                    \n",
    "        power,                                  \n",
    "        temp_dif,\n",
    "        initialguess,\n",
    "        err)   \n",
    "\n",
    "print(\"Slope:\",fit[0],\"+-\",np.sqrt(covariance[0][0]))    \n",
    "print(\"Intercept:\",fit[1],\"+-\",np.sqrt(covariance[1][1])) \n",
    "\n",
    "powerfit=np.linspace(min(power), max(power), 100) \n",
    "func_plot=func(powerfit,*fit)    \n",
    "\n",
    "plt.xlabel('(W)',fontsize = 8)\n",
    "plt.ylabel('Degrees Celcius',fontsize = 8)\n",
    "\n",
    "plt.plot(power,temp_dif,'x')\n",
    "plt.errorbar(power, temp_dif, err, fmt='k.')\n",
    "\n",
    "plt.plot(powerfit, func_plot) \n"
   ]
  },
  {
   "cell_type": "code",
   "execution_count": 66,
   "metadata": {},
   "outputs": [
    {
     "name": "stdout",
     "output_type": "stream",
     "text": [
      "-0.11422202131423885 +- 0.004499079710807281\n"
     ]
    }
   ],
   "source": [
    "# The slope of our line is a constant (see manual). Solve for lambda:\n",
    "\n",
    "b = 0.02075\n",
    "a = 0.01905\n",
    "L = 0.2540\n",
    "\n",
    "conductivity = math.log(b/a)/(2*math.pi*L*fit[0])\n",
    "unc = math.log(b/a)/(2*math.pi*L*(fit[0]**2))*(np.sqrt(covariance[0][0]))\n",
    "print(conductivity,'+-',unc)\n"
   ]
  },
  {
   "cell_type": "code",
   "execution_count": 72,
   "metadata": {},
   "outputs": [],
   "source": [
    "# GET READY TO PLOT PRESSURE AND TEMP\n",
    "\n",
    "PressureData = np.genfromtxt('Pressure csv 1.txt', delimiter=',',skip_header=1)\n",
    "\n",
    "time = []\n",
    "temp = []\n",
    "pressure = []\n",
    "err_pres = []\n",
    "\n",
    "for i in range(len(PressureData)):\n",
    "    time.append(PressureData[i][0])\n",
    "    temp.append(PressureData[i][1])\n",
    "    pressure.append(PressureData[i][2])\n",
    "    err_pres.append(0.4)"
   ]
  },
  {
   "cell_type": "code",
   "execution_count": 73,
   "metadata": {},
   "outputs": [
    {
     "name": "stdout",
     "output_type": "stream",
     "text": [
      "Slope: -0.4632255185894998 +- 0.01854000855480653\n",
      "Intercept: 8.561373220487674 +- 0.2238835193612654\n"
     ]
    },
    {
     "data": {
      "image/png": "[encoded data removed]",
      "text/plain": [
       "<Figure size 432x288 with 1 Axes>"
      ]
     },
     "metadata": {
      "needs_background": "light"
     },
     "output_type": "display_data"
    },
    {
     "data": {
      "text/plain": [
       "<Figure size 432x288 with 0 Axes>"
      ]
     },
     "metadata": {},
     "output_type": "display_data"
    }
   ],
   "source": [
    "def func2(x,m,b):                                 \n",
    "    return m*x+b                                \n",
    "     \n",
    "initialguess2 = [-0.25,9]                     \n",
    "                                        \n",
    "fit, covariance = optimize.curve_fit(            \n",
    "        func2,                                    \n",
    "        temp,                                  \n",
    "        pressure,\n",
    "        initialguess2,\n",
    "        err_pres)   \n",
    "\n",
    "print(\"Slope:\",fit[0],\"+-\",np.sqrt(covariance[0][0]))    \n",
    "print(\"Intercept:\",fit[1],\"+-\",np.sqrt(covariance[1][1])) \n",
    "\n",
    "tempfit=np.linspace(min(temp), max(temp), 100) \n",
    "func2_plot=func2(tempfit,*fit)    \n",
    "\n",
    "plt.xlabel('(Degrees Celsius)',fontsize = 8)\n",
    "plt.ylabel('Pressure (V)',fontsize = 8)\n",
    "\n",
    "plt.plot(temp, pressure, 'x')\n",
    "plt.errorbar(temp, pressure, err_pres, fmt='k.')\n",
    "plt.plot(tempfit, func2_plot) \n",
    "\n",
    "plt.show()\n",
    "plt.clf()"
   ]
  },
  {
   "cell_type": "code",
   "execution_count": 85,
   "metadata": {},
   "outputs": [],
   "source": [
    "# The transition point occurs at approx T = 7.5\n",
    "\n",
    "divider = 8.1\n",
    "\n",
    "time_first = []\n",
    "time_end = []\n",
    "temp_first = []\n",
    "temp_end = []\n",
    "pressure_first = []\n",
    "pressure_end = []\n",
    "err_pres_first = []\n",
    "err_pres_end = []\n",
    "\n",
    "for i in range(len(time)):\n",
    "    if (temp[i] < divider):\n",
    "        time_first.append(time[i])\n",
    "        temp_first.append(temp[i])\n",
    "        pressure_first.append(pressure[i])\n",
    "        err_pres_first.append(err_pres[i])    \n",
    "    else:\n",
    "        time_end.append(time[i])\n",
    "        temp_end.append(temp[i])\n",
    "        pressure_end.append(pressure[i])\n",
    "        err_pres_end.append(err_pres[i])"
   ]
  },
  {
   "cell_type": "code",
   "execution_count": 121,
   "metadata": {},
   "outputs": [
    {
     "name": "stdout",
     "output_type": "stream",
     "text": [
      "Slope: -4.496105499336248 +- 0.5777727715657482\n",
      "Intercept: 39.39717018265415 +- 4.24674628277921\n",
      "Slope: -0.022977202062407446 +- 0.0008626428771833626\n",
      "Intercept: 0.6578612568553344 +- 0.013548530478806659\n"
     ]
    },
    {
     "data": {
      "image/png": "[encoded data removed]",
      "text/plain": [
       "<Figure size 432x288 with 1 Axes>"
      ]
     },
     "metadata": {
      "needs_background": "light"
     },
     "output_type": "display_data"
    }
   ],
   "source": [
    "def func3(x,m,b):                                 \n",
    "    return m*x+b                                \n",
    "     \n",
    "initialguess3 = [1,1]                     \n",
    "                                        \n",
    "fit, covariance = optimize.curve_fit(            \n",
    "        func3,                                    \n",
    "        temp_first,                                  \n",
    "        pressure_first,\n",
    "        initialguess3,\n",
    "        err_pres_first)   \n",
    "\n",
    "print(\"Slope:\",fit[0],\"+-\",np.sqrt(covariance[0][0]))    \n",
    "print(\"Intercept:\",fit[1],\"+-\",np.sqrt(covariance[1][1]))\n",
    "\n",
    "vert_slope = fit[0]\n",
    "vert_intercept = fit[1]\n",
    "vert_slope_unc = np.sqrt(covariance[0][0])\n",
    "vert_intercept_unc = np.sqrt(covariance[1][1])\n",
    "\n",
    "temp_firstfit=np.linspace(min(temp_first), max(temp_first), 100) \n",
    "func3_plot=func3(temp_firstfit,*fit)    \n",
    "plt.plot(temp_firstfit, func3_plot) \n",
    "\n",
    "def func4(x,m,b):                                 \n",
    "    return m*x+b                                \n",
    "     \n",
    "initialguess4 = [1,1]                     \n",
    "                                        \n",
    "fit, covariance = optimize.curve_fit(            \n",
    "        func4,                                    \n",
    "        temp_end,                                  \n",
    "        pressure_end,\n",
    "        initialguess4,\n",
    "        err_pres_end)   \n",
    "\n",
    "print(\"Slope:\",fit[0],\"+-\",np.sqrt(covariance[0][0]))    \n",
    "print(\"Intercept:\",fit[1],\"+-\",np.sqrt(covariance[1][1])) \n",
    "\n",
    "horz_slope = fit[0]\n",
    "horz_intercept = fit[1]\n",
    "horz_slope_unc = np.sqrt(covariance[0][0])\n",
    "horz_intercept_unc = np.sqrt(covariance[1][1])\n",
    "\n",
    "temp_endfit=np.linspace(min(temp_end), max(temp_end), 100) \n",
    "func4_plot=func4(temp_endfit,*fit)    \n",
    "plt.plot(temp_endfit, func4_plot) \n",
    "\n",
    "plt.xlabel('(Degrees Celsius)',fontsize = 8)\n",
    "plt.ylabel('Pressure (V)',fontsize = 8)\n",
    "#plt.errorbar(temp_first, pressure_first, err_pres_first, fmt='k.')\n",
    "#plt.errorbar(temp_end, pressure_end, err_pres_end, fmt='k.')\n",
    "\n",
    "plt.plot(temp_first,pressure_first)\n",
    "plt.plot(temp_end,pressure_end)\n",
    "\n",
    "plt.show()"
   ]
  },
  {
   "cell_type": "code",
   "execution_count": 126,
   "metadata": {},
   "outputs": [
    {
     "data": {
      "image/png": "[encoded data removed]",
      "text/plain": [
       "<Figure size 432x288 with 1 Axes>"
      ]
     },
     "metadata": {
      "needs_background": "light"
     },
     "output_type": "display_data"
    }
   ],
   "source": [
    "# Calculating residuals \n",
    "\n",
    "res_first = []\n",
    "res_end = []\n",
    "\n",
    "def res_func(x,m,b):\n",
    "    return m*x+b\n",
    "\n",
    "for i in range(len(temp_first)):\n",
    "    res_first.append(pressure_first[i]-res_func(temp_first[i], vert_slope, vert_intercept))\n",
    "    \n",
    "for i in range(len(temp_end)):\n",
    "    res_end.append(pressure_end[i]-res_func(temp_end[i], horz_slope, horz_intercept))\n",
    "    \n",
    "plt.title('Residuals')\n",
    "plt.xlabel('X')\n",
    "plt.ylabel('Y')\n",
    "plt.plot(temp_first,res_first,'o')\n",
    "plt.plot(temp_end,res_end,'o')\n",
    "plt.axhline(y=0.0, color='g', linestyle='-') \n",
    "plt.show()"
   ]
  },
  {
   "cell_type": "code",
   "execution_count": 130,
   "metadata": {},
   "outputs": [
    {
     "name": "stdout",
     "output_type": "stream",
     "text": [
      "POI is  8.660451109664928 +- 1.2524937016813862\n"
     ]
    }
   ],
   "source": [
    "# Calculating POI\n",
    "\n",
    "POI = (horz_intercept-vert_intercept)/(vert_slope-horz_slope)\n",
    "POI_unc = abs((horz_intercept_unc+vert_slope_unc)/(vert_slope-horz_slope)) + abs((horz_intercept-vert_intercept)*(horz_slope_unc+vert_slope_unc)/(vert_slope-horz_slope)**2)\n",
    "\n",
    "print('POI is ',POI,'+-',POI_unc)"
   ]
  }
 ],
 "metadata": {
  "kernelspec": {
   "display_name": "Python 3",
   "language": "python",
   "name": "python3"
  },
  "language_info": {
   "codemirror_mode": {
    "name": "ipython",
    "version": 3
   },
   "file_extension": ".py",
   "mimetype": "text/x-python",
   "name": "python",
   "nbconvert_exporter": "python",
   "pygments_lexer": "ipython3",
   "version": "3.6.8"
  }
 },
 "nbformat": 4,
 "nbformat_minor": 2
}
